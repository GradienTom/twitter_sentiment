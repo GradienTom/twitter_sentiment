{
 "cells": [
  {
   "cell_type": "code",
   "execution_count": null,
   "metadata": {
    "collapsed": false
   },
   "outputs": [],
   "source": [
    "from __future__ import print_function # Python 2/3 compatibility\n",
    "import boto3\n",
    "import json\n",
    "import tweepy\n",
    "from tweepy import Stream\n",
    "from tweepy.streaming import StreamListener\n",
    "import datetime\n",
    "from bs4 import BeautifulSoup"
   ]
  },
  {
   "cell_type": "markdown",
   "metadata": {},
   "source": [
    "## DataTable"
   ]
  },
  {
   "cell_type": "code",
   "execution_count": 3,
   "metadata": {
    "collapsed": true
   },
   "outputs": [],
   "source": [
    "class DataTable:\n",
    "\n",
    "    def __init__(self, tweetTable):\n",
    "        self.tweetTable = tweetTable\n",
    "\n",
    "    def insert_tweet(self, tweet):\n",
    "        self.tweetTable.put_item(\n",
    "            Item={\n",
    "                'TimeStamp': tweet.time_stamp,\n",
    "                'Text': tweet.text,\n",
    "                'ID': tweet.id,\n",
    "                'Language': tweet.lang,\n",
    "                'Source': tweet.source,\n",
    "                'entities': {\n",
    "                    'Hashtags': tweet.entities.hashtags,\n",
    "                    'Mentions': tweet.entities.mentions\n",
    "                },\n",
    "                'user': {\n",
    "                    'ID': tweet.user.id,\n",
    "                    'name': tweet.user.name,\n",
    "                    'FavouritesCount': tweet.user.favourites_count,\n",
    "                    'FollowersCount': tweet.user.followers_count,\n",
    "                    'FriendsCount': tweet.user.friends_count,\n",
    "                }\n",
    "            }\n",
    "        )"
   ]
  },
  {
   "cell_type": "markdown",
   "metadata": {},
   "source": [
    "## Tweet"
   ]
  },
  {
   "cell_type": "code",
   "execution_count": 4,
   "metadata": {
    "collapsed": true
   },
   "outputs": [],
   "source": [
    "class Tweet:\n",
    "\n",
    "    def __init__(self, tweet):\n",
    "        self.id = tweet['id']\n",
    "        self.lang = tweet['lang']\n",
    "        self.time_stamp, self.text = tweet['created_at'], tweet['text']\n",
    "        self.source = BeautifulSoup(tweet['source'], 'html.parser').get_text()\n",
    "\n",
    "        self.user = User(tweet['user'])\n",
    "        self.entities = Entities(tweet['entities'])\n",
    "        \n",
    "        print(self.text)"
   ]
  },
  {
   "cell_type": "markdown",
   "metadata": {},
   "source": [
    "## User"
   ]
  },
  {
   "cell_type": "code",
   "execution_count": 5,
   "metadata": {
    "collapsed": true
   },
   "outputs": [],
   "source": [
    "class User:\n",
    "    \n",
    "    def __init__(self, user):\n",
    "        self.name = user['screen_name']\n",
    "        self.id = user['id']\n",
    "        self.favourites_count = user['favourites_count']\n",
    "        self.followers_count = user['followers_count']\n",
    "        self.friends_count = user['friends_count']"
   ]
  },
  {
   "cell_type": "markdown",
   "metadata": {},
   "source": [
    "## Entities"
   ]
  },
  {
   "cell_type": "code",
   "execution_count": 6,
   "metadata": {
    "collapsed": true
   },
   "outputs": [],
   "source": [
    "class Entities:\n",
    "\n",
    "    def __init__(self, entities):\n",
    "        self.hashtags, self.mentions = [], []\n",
    "        for hashtag in entities['hashtags']:\n",
    "            self.hashtags.append(hashtag['text'])\n",
    "        for mention in entities['user_mentions']:\n",
    "            self.mentions.append(mention['screen_name'])"
   ]
  },
  {
   "cell_type": "markdown",
   "metadata": {},
   "source": [
    "## Listener"
   ]
  },
  {
   "cell_type": "code",
   "execution_count": 7,
   "metadata": {
    "collapsed": false
   },
   "outputs": [
    {
     "ename": "NameError",
     "evalue": "name 'StreamListener' is not defined",
     "output_type": "error",
     "traceback": [
      "\u001b[0;31m---------------------------------------------------------------------------\u001b[0m",
      "\u001b[0;31mNameError\u001b[0m                                 Traceback (most recent call last)",
      "\u001b[0;32m<ipython-input-7-559fc592dea1>\u001b[0m in \u001b[0;36m<module>\u001b[0;34m()\u001b[0m\n\u001b[0;32m----> 1\u001b[0;31m \u001b[0;32mclass\u001b[0m \u001b[0mListener\u001b[0m \u001b[0;34m(\u001b[0m\u001b[0mStreamListener\u001b[0m\u001b[0;34m)\u001b[0m\u001b[0;34m:\u001b[0m\u001b[0;34m\u001b[0m\u001b[0m\n\u001b[0m\u001b[1;32m      2\u001b[0m \u001b[0;34m\u001b[0m\u001b[0m\n\u001b[1;32m      3\u001b[0m     \u001b[0;32mdef\u001b[0m \u001b[0m__init__\u001b[0m\u001b[0;34m(\u001b[0m\u001b[0mself\u001b[0m\u001b[0;34m,\u001b[0m \u001b[0mtable\u001b[0m\u001b[0;34m)\u001b[0m\u001b[0;34m:\u001b[0m\u001b[0;34m\u001b[0m\u001b[0m\n\u001b[1;32m      4\u001b[0m         \u001b[0mStreamListener\u001b[0m\u001b[0;34m.\u001b[0m\u001b[0m__init__\u001b[0m\u001b[0;34m(\u001b[0m\u001b[0mself\u001b[0m\u001b[0;34m)\u001b[0m\u001b[0;34m\u001b[0m\u001b[0m\n\u001b[1;32m      5\u001b[0m         \u001b[0mself\u001b[0m\u001b[0;34m.\u001b[0m\u001b[0mtable\u001b[0m \u001b[0;34m=\u001b[0m \u001b[0mtable\u001b[0m\u001b[0;34m\u001b[0m\u001b[0m\n",
      "\u001b[0;31mNameError\u001b[0m: name 'StreamListener' is not defined"
     ]
    }
   ],
   "source": [
    "class Listener (StreamListener):\n",
    "\n",
    "    def __init__(self, table):\n",
    "        StreamListener.__init__(self)\n",
    "        self.table = table\n",
    "        \n",
    "    def on_data(self, data):\n",
    "        try:\n",
    "            decoded = json.loads(data)\n",
    "            self.table.insert_tweet(Tweet(decoded))\n",
    "        except KeyError, e:\n",
    "            print(\"Key Error\", e)\n",
    "        except Exception, e:\n",
    "            print(\"Error on data\", e)\n",
    "\n",
    "    def on_error(self, status):\n",
    "        print(status)"
   ]
  },
  {
   "cell_type": "markdown",
   "metadata": {},
   "source": [
    "## Main"
   ]
  },
  {
   "cell_type": "code",
   "execution_count": 8,
   "metadata": {
    "collapsed": false
   },
   "outputs": [
    {
     "ename": "NameError",
     "evalue": "name 'boto3' is not defined",
     "output_type": "error",
     "traceback": [
      "\u001b[0;31m---------------------------------------------------------------------------\u001b[0m",
      "\u001b[0;31mNameError\u001b[0m                                 Traceback (most recent call last)",
      "\u001b[0;32m<ipython-input-8-29911d68b5b6>\u001b[0m in \u001b[0;36m<module>\u001b[0;34m()\u001b[0m\n\u001b[1;32m      5\u001b[0m     \u001b[0maccess_token_secret\u001b[0m\u001b[0;34m=\u001b[0m \u001b[0;34m'DQfcife9i7teD2DtWtJQOYlasK0yByqbkV7MR903AW2Zc'\u001b[0m\u001b[0;34m\u001b[0m\u001b[0m\n\u001b[1;32m      6\u001b[0m \u001b[0;34m\u001b[0m\u001b[0m\n\u001b[0;32m----> 7\u001b[0;31m     \u001b[0mdynamodb\u001b[0m \u001b[0;34m=\u001b[0m \u001b[0mboto3\u001b[0m\u001b[0;34m.\u001b[0m\u001b[0mresource\u001b[0m\u001b[0;34m(\u001b[0m\u001b[0;34m'dynamodb'\u001b[0m\u001b[0;34m)\u001b[0m\u001b[0;34m\u001b[0m\u001b[0m\n\u001b[0m\u001b[1;32m      8\u001b[0m     \u001b[0mtable\u001b[0m \u001b[0;34m=\u001b[0m \u001b[0mDataTable\u001b[0m\u001b[0;34m(\u001b[0m\u001b[0mdynamodb\u001b[0m\u001b[0;34m.\u001b[0m\u001b[0mTable\u001b[0m\u001b[0;34m(\u001b[0m\u001b[0;34m'Tweet'\u001b[0m\u001b[0;34m)\u001b[0m\u001b[0;34m,\u001b[0m \u001b[0mdynamodb\u001b[0m\u001b[0;34m.\u001b[0m\u001b[0mTable\u001b[0m\u001b[0;34m(\u001b[0m\u001b[0;34m'Log'\u001b[0m\u001b[0;34m)\u001b[0m\u001b[0;34m)\u001b[0m\u001b[0;34m\u001b[0m\u001b[0m\n\u001b[1;32m      9\u001b[0m \u001b[0;34m\u001b[0m\u001b[0m\n",
      "\u001b[0;31mNameError\u001b[0m: name 'boto3' is not defined"
     ]
    }
   ],
   "source": [
    "if __name__ == '__main__':\n",
    "    consumer_key= 'CvL60UbrszIbU7sPabRNsVis0'\n",
    "    consumer_secret= 'OOU3EOonHMqOfaPZ7SGRYucP2wxDpHv5l3L0TKcyV09Oxw0yu3'\n",
    "    access_token= '2374450932-EFnX9Rt07h4E1PWwj4lNyeunvF2KN3ahsqC5c3g'\n",
    "    access_token_secret= 'DQfcife9i7teD2DtWtJQOYlasK0yByqbkV7MR903AW2Zc'\n",
    "\n",
    "    dynamodb = boto3.resource('dynamodb')\n",
    "    table = DataTable(dynamodb.Table('Tweet'), dynamodb.Table('Log'))\n",
    "\n",
    "    auth = tweepy.OAuthHandler(consumer_key, consumer_secret)\n",
    "    auth.set_access_token(access_token, access_token_secret)\n",
    "    twitterStream = Stream(auth, Listener(table))\n",
    "    twitterStream.sample()"
   ]
  },
  {
   "cell_type": "code",
   "execution_count": null,
   "metadata": {
    "collapsed": true
   },
   "outputs": [],
   "source": []
  }
 ],
 "metadata": {
  "kernelspec": {
   "display_name": "Python 2",
   "language": "python",
   "name": "python2"
  },
  "language_info": {
   "codemirror_mode": {
    "name": "ipython",
    "version": 2
   },
   "file_extension": ".py",
   "mimetype": "text/x-python",
   "name": "python",
   "nbconvert_exporter": "python",
   "pygments_lexer": "ipython2",
   "version": "2.7.11"
  }
 },
 "nbformat": 4,
 "nbformat_minor": 0
}
